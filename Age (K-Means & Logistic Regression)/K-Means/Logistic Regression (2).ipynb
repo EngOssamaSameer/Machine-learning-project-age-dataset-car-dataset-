{
 "cells": [
  {
   "cell_type": "code",
   "execution_count": 1,
   "id": "2e8e1b02",
   "metadata": {},
   "outputs": [],
   "source": [
    "import numpy as np\n",
    "import pandas as pd\n",
    "import matplotlib.pyplot as plt\n",
    "import seaborn as sns\n",
    "from skimage.feature import hog\n",
    "from skimage import exposure\n",
    "import os\n",
    "import cv2\n",
    "import numpy as np\n",
    "from skimage import io, color, feature, exposure\n",
    "from sklearn.model_selection import train_test_split\n",
    "from sklearn.metrics import accuracy_score, classification_report\n",
    "from sklearn.preprocessing import LabelEncoder\n",
    "from sklearn.preprocessing import MinMaxScaler\n",
    "from sklearn.cluster import KMeans\n",
    "from sklearn.metrics import silhouette_score\n",
    "from sklearn.decomposition import PCA\n",
    "from sklearn.metrics import davies_bouldin_score\n",
    "from sklearn.linear_model import LogisticRegression\n",
    "from sklearn.metrics import accuracy_score \n",
    "from sklearn.metrics import f1_score \n",
    "from sklearn.metrics import recall_score \n",
    "from sklearn.metrics import precision_score \n",
    "from sklearn.metrics import precision_recall_fscore_support \n",
    "from sklearn.metrics import precision_recall_curve \n",
    "from sklearn.metrics import classification_report \n",
    "from sklearn.metrics import roc_curve \n",
    "from sklearn.metrics import auc \n",
    "from sklearn.metrics import roc_auc_score \n",
    "from sklearn.metrics import zero_one_loss\n",
    "from sklearn.metrics import confusion_matrix\n",
    "from IPython.display import Image"
   ]
  },
  {
   "cell_type": "code",
   "execution_count": 2,
   "id": "5b70f7c7",
   "metadata": {},
   "outputs": [],
   "source": [
    "\n",
    "# Function to extract HOG features from an image and visualize it\n",
    "def extract_hog_features(image):\n",
    "    # Convert the image to grayscale\n",
    "    gray_image = color.rgb2gray(image)\n",
    "\n",
    "    # Calculate HOG features\n",
    "    hog_features, hog_image = feature.hog(gray_image, visualize=True)\n",
    "\n",
    "    # Enhance the contrast of the HOG image for better visualization\n",
    "    hog_image_rescaled = exposure.rescale_intensity(hog_image, in_range=(0, 10))\n",
    "\n",
    "    return hog_features, hog_image_rescaled"
   ]
  },
  {
   "cell_type": "code",
   "execution_count": null,
   "id": "7461ca2d",
   "metadata": {},
   "outputs": [],
   "source": [
    "\n",
    "\n",
    "# Path to the root folder of your dataset\n",
    "class_folder = \"D:/fcai/Level 3/ML/section/age/part3\"\n",
    "\n",
    "# List all subdirectories (assuming each subdirectory corresponds to a class)\n",
    "features_list=[]\n",
    "labels_list=[]\n",
    "age = []\n",
    "gender = []\n",
    "race = []\n",
    "date_time = []\n",
    "\n",
    "for image_filename in os.listdir(class_folder):\n",
    "    image_path = os.path.join(class_folder, image_filename)\n",
    "    \n",
    "    #append age and geder and race for each image\n",
    "    p = (image_filename.split('.')[0]).split('_')\n",
    "    age.append(p[0])\n",
    "    gender.append(p[1])\n",
    "    # assign male and fmale\n",
    "#     if p[1] == \"0\" :\n",
    "#         gender.append(\"male\")\n",
    "#     else :\n",
    "#         gender.append(\"fmale\")\n",
    "#     #assign White, Black, Asian, Indian, and Others \n",
    "#     if p[2] == '0':\n",
    "#         race.append('White')\n",
    "#     elif p[2] == '1':\n",
    "#         race.append('Black')\n",
    "#     elif p[2] == '2':\n",
    "#         race.append('Asian')\n",
    "#     elif p[2] == '3':\n",
    "#         race.append('Indian')\n",
    "#     elif p[2] == '4':\n",
    "#         race.append('Others')\n",
    "    race.append(p[2])\n",
    "    date_time.append(p[3])\n",
    "\n",
    "    # Load the image\n",
    "    image = io.imread(image_path)\n",
    "    #resize image into same saize 64*128\n",
    "    image = cv2.resize(image, (64,64))\n",
    "\n",
    "    # Extract HOG features and visualize\n",
    "    hog_features, hog_image = extract_hog_features(image)\n",
    "\n",
    "    # Display the original image and the HOG features\n",
    "    fig, (ax1, ax2) = plt.subplots(1, 2, figsize=(2, 2), sharex=True, sharey=True)\n",
    "\n",
    "    ax1.axis('off')\n",
    "    ax1.imshow(image, cmap=plt.cm.gray)\n",
    "\n",
    "    ax2.axis('off')\n",
    "    ax2.imshow(hog_image, cmap=plt.cm.gray)\n",
    "\n",
    "    plt.show()\n",
    "\n",
    "    # Append HOG features to the features list\n",
    "    features_list.append(hog_features)\n",
    "\n",
    "    #not important\n",
    "    # Append the label to the labels list\n",
    "    labels_list.append(class_folder)\n",
    "\n"
   ]
  },
  {
   "cell_type": "code",
   "execution_count": 16,
   "id": "f87b9e22",
   "metadata": {},
   "outputs": [
    {
     "name": "stdout",
     "output_type": "stream",
     "text": [
      "\n",
      "*********************\n",
      "\n",
      "3252\n"
     ]
    }
   ],
   "source": [
    "# Convert lists to NumPy arrays\n",
    "features_array = np.array(features_list)\n",
    "labels_array = np.array(labels_list)\n",
    "\n",
    "#not important\n",
    "# Use LabelEncoder to convert class names into numeric labels\n",
    "label_encoder = LabelEncoder()\n",
    "numeric_labels = label_encoder.fit_transform(labels_array)\n",
    "\n",
    "print(\"\\n*********************\\n\")\n",
    "print(len(features_array))\n"
   ]
  },
  {
   "cell_type": "code",
   "execution_count": 54,
   "id": "a95ce96d",
   "metadata": {},
   "outputs": [],
   "source": [
    "# Convert 'age' list to numpy array\n",
    "age_array = np.array(age).reshape(-1, 1)  # Reshape as a column vector\n",
    "\n",
    "# Convert 'gender' list to numpy array\n",
    "gender_array = np.array(gender).reshape(-1, 1)  # Reshape as a column vector\n",
    "\n",
    "# Convert 'race' list to numpy array\n",
    "race_array = np.array(race).reshape(-1, 1)  # Reshape as a column vector\n",
    "\n",
    "# Convert 'date_time' list to numpy array\n",
    "date_time_array = np.array(date_time).reshape(-1, 1)  # Reshape as a column vector\n",
    "\n",
    "\n",
    "# Create the dataset by horizontally stacking age_array with features_array\n",
    "dataset = np.hstack((age_array,gender_array, race_array,date_time_array,features_array))\n",
    "\n",
    "# Convert dataset to a pandas DataFrame\n",
    "column_names = ['Age']+['Gender'] +['Race'] +['Date&Time'] + [f'Feature_{i}' for i in range(features_array.shape[1])]  # Creating column names\n",
    "df = pd.DataFrame(dataset, columns=column_names)"
   ]
  },
  {
   "cell_type": "code",
   "execution_count": 55,
   "id": "16e61033",
   "metadata": {},
   "outputs": [],
   "source": [
    "# save dataset in my drive \n",
    "df.to_csv('age_whiout_sum.csv', index=False)"
   ]
  },
  {
   "cell_type": "code",
   "execution_count": 3,
   "id": "b627e029",
   "metadata": {},
   "outputs": [
    {
     "name": "stderr",
     "output_type": "stream",
     "text": [
      "C:\\Users\\iRepair\\AppData\\Local\\Temp\\ipykernel_4076\\4006389438.py:2: DtypeWarning: Columns (3) have mixed types. Specify dtype option on import or set low_memory=False.\n",
      "  dataset = pd.read_csv('age_whiout_sum.csv')\n"
     ]
    }
   ],
   "source": [
    "#load data from my devise \n",
    "dataset = pd.read_csv('age_whiout_sum.csv')\n"
   ]
  },
  {
   "cell_type": "code",
   "execution_count": 4,
   "id": "25e40b1f",
   "metadata": {},
   "outputs": [
    {
     "data": {
      "text/html": [
       "<div>\n",
       "<style scoped>\n",
       "    .dataframe tbody tr th:only-of-type {\n",
       "        vertical-align: middle;\n",
       "    }\n",
       "\n",
       "    .dataframe tbody tr th {\n",
       "        vertical-align: top;\n",
       "    }\n",
       "\n",
       "    .dataframe thead th {\n",
       "        text-align: right;\n",
       "    }\n",
       "</style>\n",
       "<table border=\"1\" class=\"dataframe\">\n",
       "  <thead>\n",
       "    <tr style=\"text-align: right;\">\n",
       "      <th></th>\n",
       "      <th>Age</th>\n",
       "      <th>Gender</th>\n",
       "      <th>Race</th>\n",
       "      <th>Date&amp;Time</th>\n",
       "      <th>Feature_0</th>\n",
       "      <th>Feature_1</th>\n",
       "      <th>Feature_2</th>\n",
       "      <th>Feature_3</th>\n",
       "      <th>Feature_4</th>\n",
       "      <th>Feature_5</th>\n",
       "      <th>...</th>\n",
       "      <th>Feature_2906</th>\n",
       "      <th>Feature_2907</th>\n",
       "      <th>Feature_2908</th>\n",
       "      <th>Feature_2909</th>\n",
       "      <th>Feature_2910</th>\n",
       "      <th>Feature_2911</th>\n",
       "      <th>Feature_2912</th>\n",
       "      <th>Feature_2913</th>\n",
       "      <th>Feature_2914</th>\n",
       "      <th>Feature_2915</th>\n",
       "    </tr>\n",
       "  </thead>\n",
       "  <tbody>\n",
       "    <tr>\n",
       "      <th>0</th>\n",
       "      <td>100</td>\n",
       "      <td>1</td>\n",
       "      <td>0</td>\n",
       "      <td>20170119212053665</td>\n",
       "      <td>0.000000</td>\n",
       "      <td>0.000000</td>\n",
       "      <td>0.000000</td>\n",
       "      <td>0.000000</td>\n",
       "      <td>0.000000</td>\n",
       "      <td>0.000000</td>\n",
       "      <td>...</td>\n",
       "      <td>0.105313</td>\n",
       "      <td>0.210356</td>\n",
       "      <td>0.063162</td>\n",
       "      <td>0.027130</td>\n",
       "      <td>0.033233</td>\n",
       "      <td>0.062907</td>\n",
       "      <td>0.007087</td>\n",
       "      <td>0.029493</td>\n",
       "      <td>0.014638</td>\n",
       "      <td>0.059388</td>\n",
       "    </tr>\n",
       "    <tr>\n",
       "      <th>1</th>\n",
       "      <td>10</td>\n",
       "      <td>0</td>\n",
       "      <td>0</td>\n",
       "      <td>20170116201102149</td>\n",
       "      <td>0.021221</td>\n",
       "      <td>0.022481</td>\n",
       "      <td>0.220955</td>\n",
       "      <td>0.220955</td>\n",
       "      <td>0.195880</td>\n",
       "      <td>0.090754</td>\n",
       "      <td>...</td>\n",
       "      <td>0.051861</td>\n",
       "      <td>0.240718</td>\n",
       "      <td>0.240718</td>\n",
       "      <td>0.126342</td>\n",
       "      <td>0.064562</td>\n",
       "      <td>0.045626</td>\n",
       "      <td>0.000000</td>\n",
       "      <td>0.003938</td>\n",
       "      <td>0.055610</td>\n",
       "      <td>0.079367</td>\n",
       "    </tr>\n",
       "    <tr>\n",
       "      <th>2</th>\n",
       "      <td>10</td>\n",
       "      <td>0</td>\n",
       "      <td>0</td>\n",
       "      <td>20170120220628194</td>\n",
       "      <td>0.252932</td>\n",
       "      <td>0.105968</td>\n",
       "      <td>0.057890</td>\n",
       "      <td>0.032553</td>\n",
       "      <td>0.123328</td>\n",
       "      <td>0.006724</td>\n",
       "      <td>...</td>\n",
       "      <td>0.010051</td>\n",
       "      <td>0.143671</td>\n",
       "      <td>0.008573</td>\n",
       "      <td>0.008531</td>\n",
       "      <td>0.000000</td>\n",
       "      <td>0.034993</td>\n",
       "      <td>0.004975</td>\n",
       "      <td>0.017171</td>\n",
       "      <td>0.052169</td>\n",
       "      <td>0.079247</td>\n",
       "    </tr>\n",
       "    <tr>\n",
       "      <th>3</th>\n",
       "      <td>10</td>\n",
       "      <td>0</td>\n",
       "      <td>1</td>\n",
       "      <td>20170116225209209</td>\n",
       "      <td>0.017564</td>\n",
       "      <td>0.005133</td>\n",
       "      <td>0.002044</td>\n",
       "      <td>0.004387</td>\n",
       "      <td>0.042466</td>\n",
       "      <td>0.040933</td>\n",
       "      <td>...</td>\n",
       "      <td>0.003040</td>\n",
       "      <td>0.245698</td>\n",
       "      <td>0.122011</td>\n",
       "      <td>0.006941</td>\n",
       "      <td>0.030092</td>\n",
       "      <td>0.141776</td>\n",
       "      <td>0.012963</td>\n",
       "      <td>0.050654</td>\n",
       "      <td>0.102396</td>\n",
       "      <td>0.092288</td>\n",
       "    </tr>\n",
       "    <tr>\n",
       "      <th>4</th>\n",
       "      <td>10</td>\n",
       "      <td>1</td>\n",
       "      <td>1</td>\n",
       "      <td>20170116225209209</td>\n",
       "      <td>0.020991</td>\n",
       "      <td>0.007497</td>\n",
       "      <td>0.016926</td>\n",
       "      <td>0.028936</td>\n",
       "      <td>0.079318</td>\n",
       "      <td>0.018473</td>\n",
       "      <td>...</td>\n",
       "      <td>0.224800</td>\n",
       "      <td>0.014928</td>\n",
       "      <td>0.000000</td>\n",
       "      <td>0.000000</td>\n",
       "      <td>0.001942</td>\n",
       "      <td>0.026500</td>\n",
       "      <td>0.003167</td>\n",
       "      <td>0.007885</td>\n",
       "      <td>0.012504</td>\n",
       "      <td>0.031704</td>\n",
       "    </tr>\n",
       "  </tbody>\n",
       "</table>\n",
       "<p>5 rows × 2920 columns</p>\n",
       "</div>"
      ],
      "text/plain": [
       "   Age  Gender  Race          Date&Time  Feature_0  Feature_1  Feature_2  \\\n",
       "0  100       1     0  20170119212053665   0.000000   0.000000   0.000000   \n",
       "1   10       0     0  20170116201102149   0.021221   0.022481   0.220955   \n",
       "2   10       0     0  20170120220628194   0.252932   0.105968   0.057890   \n",
       "3   10       0     1  20170116225209209   0.017564   0.005133   0.002044   \n",
       "4   10       1     1  20170116225209209   0.020991   0.007497   0.016926   \n",
       "\n",
       "   Feature_3  Feature_4  Feature_5  ...  Feature_2906  Feature_2907  \\\n",
       "0   0.000000   0.000000   0.000000  ...      0.105313      0.210356   \n",
       "1   0.220955   0.195880   0.090754  ...      0.051861      0.240718   \n",
       "2   0.032553   0.123328   0.006724  ...      0.010051      0.143671   \n",
       "3   0.004387   0.042466   0.040933  ...      0.003040      0.245698   \n",
       "4   0.028936   0.079318   0.018473  ...      0.224800      0.014928   \n",
       "\n",
       "   Feature_2908  Feature_2909  Feature_2910  Feature_2911  Feature_2912  \\\n",
       "0      0.063162      0.027130      0.033233      0.062907      0.007087   \n",
       "1      0.240718      0.126342      0.064562      0.045626      0.000000   \n",
       "2      0.008573      0.008531      0.000000      0.034993      0.004975   \n",
       "3      0.122011      0.006941      0.030092      0.141776      0.012963   \n",
       "4      0.000000      0.000000      0.001942      0.026500      0.003167   \n",
       "\n",
       "   Feature_2913  Feature_2914  Feature_2915  \n",
       "0      0.029493      0.014638      0.059388  \n",
       "1      0.003938      0.055610      0.079367  \n",
       "2      0.017171      0.052169      0.079247  \n",
       "3      0.050654      0.102396      0.092288  \n",
       "4      0.007885      0.012504      0.031704  \n",
       "\n",
       "[5 rows x 2920 columns]"
      ]
     },
     "execution_count": 4,
     "metadata": {},
     "output_type": "execute_result"
    }
   ],
   "source": [
    "dataset.head(5)"
   ]
  },
  {
   "cell_type": "code",
   "execution_count": 5,
   "id": "d1984efa",
   "metadata": {},
   "outputs": [
    {
     "name": "stdout",
     "output_type": "stream",
     "text": [
      "(3252, 2920)\n"
     ]
    }
   ],
   "source": [
    "print(dataset.shape)"
   ]
  },
  {
   "cell_type": "code",
   "execution_count": 6,
   "id": "cb2e30d4",
   "metadata": {},
   "outputs": [],
   "source": [
    "# normalization agea \n",
    "dataset['Age'] = MinMaxScaler(feature_range=(0,1)).fit_transform(dataset[['Age']] )"
   ]
  },
  {
   "cell_type": "code",
   "execution_count": 7,
   "id": "414846d8",
   "metadata": {},
   "outputs": [
    {
     "data": {
      "text/html": [
       "<div>\n",
       "<style scoped>\n",
       "    .dataframe tbody tr th:only-of-type {\n",
       "        vertical-align: middle;\n",
       "    }\n",
       "\n",
       "    .dataframe tbody tr th {\n",
       "        vertical-align: top;\n",
       "    }\n",
       "\n",
       "    .dataframe thead th {\n",
       "        text-align: right;\n",
       "    }\n",
       "</style>\n",
       "<table border=\"1\" class=\"dataframe\">\n",
       "  <thead>\n",
       "    <tr style=\"text-align: right;\">\n",
       "      <th></th>\n",
       "      <th>Age</th>\n",
       "      <th>Gender</th>\n",
       "      <th>Race</th>\n",
       "      <th>Date&amp;Time</th>\n",
       "      <th>Feature_0</th>\n",
       "      <th>Feature_1</th>\n",
       "      <th>Feature_2</th>\n",
       "      <th>Feature_3</th>\n",
       "      <th>Feature_4</th>\n",
       "      <th>Feature_5</th>\n",
       "      <th>...</th>\n",
       "      <th>Feature_2906</th>\n",
       "      <th>Feature_2907</th>\n",
       "      <th>Feature_2908</th>\n",
       "      <th>Feature_2909</th>\n",
       "      <th>Feature_2910</th>\n",
       "      <th>Feature_2911</th>\n",
       "      <th>Feature_2912</th>\n",
       "      <th>Feature_2913</th>\n",
       "      <th>Feature_2914</th>\n",
       "      <th>Feature_2915</th>\n",
       "    </tr>\n",
       "  </thead>\n",
       "  <tbody>\n",
       "    <tr>\n",
       "      <th>0</th>\n",
       "      <td>0.860870</td>\n",
       "      <td>1</td>\n",
       "      <td>0</td>\n",
       "      <td>20170119212053665</td>\n",
       "      <td>0.000000</td>\n",
       "      <td>0.000000</td>\n",
       "      <td>0.000000</td>\n",
       "      <td>0.000000</td>\n",
       "      <td>0.000000</td>\n",
       "      <td>0.000000</td>\n",
       "      <td>...</td>\n",
       "      <td>0.105313</td>\n",
       "      <td>0.210356</td>\n",
       "      <td>0.063162</td>\n",
       "      <td>0.027130</td>\n",
       "      <td>0.033233</td>\n",
       "      <td>0.062907</td>\n",
       "      <td>0.007087</td>\n",
       "      <td>0.029493</td>\n",
       "      <td>0.014638</td>\n",
       "      <td>0.059388</td>\n",
       "    </tr>\n",
       "    <tr>\n",
       "      <th>1</th>\n",
       "      <td>0.078261</td>\n",
       "      <td>0</td>\n",
       "      <td>0</td>\n",
       "      <td>20170116201102149</td>\n",
       "      <td>0.021221</td>\n",
       "      <td>0.022481</td>\n",
       "      <td>0.220955</td>\n",
       "      <td>0.220955</td>\n",
       "      <td>0.195880</td>\n",
       "      <td>0.090754</td>\n",
       "      <td>...</td>\n",
       "      <td>0.051861</td>\n",
       "      <td>0.240718</td>\n",
       "      <td>0.240718</td>\n",
       "      <td>0.126342</td>\n",
       "      <td>0.064562</td>\n",
       "      <td>0.045626</td>\n",
       "      <td>0.000000</td>\n",
       "      <td>0.003938</td>\n",
       "      <td>0.055610</td>\n",
       "      <td>0.079367</td>\n",
       "    </tr>\n",
       "    <tr>\n",
       "      <th>2</th>\n",
       "      <td>0.078261</td>\n",
       "      <td>0</td>\n",
       "      <td>0</td>\n",
       "      <td>20170120220628194</td>\n",
       "      <td>0.252932</td>\n",
       "      <td>0.105968</td>\n",
       "      <td>0.057890</td>\n",
       "      <td>0.032553</td>\n",
       "      <td>0.123328</td>\n",
       "      <td>0.006724</td>\n",
       "      <td>...</td>\n",
       "      <td>0.010051</td>\n",
       "      <td>0.143671</td>\n",
       "      <td>0.008573</td>\n",
       "      <td>0.008531</td>\n",
       "      <td>0.000000</td>\n",
       "      <td>0.034993</td>\n",
       "      <td>0.004975</td>\n",
       "      <td>0.017171</td>\n",
       "      <td>0.052169</td>\n",
       "      <td>0.079247</td>\n",
       "    </tr>\n",
       "    <tr>\n",
       "      <th>3</th>\n",
       "      <td>0.078261</td>\n",
       "      <td>0</td>\n",
       "      <td>1</td>\n",
       "      <td>20170116225209209</td>\n",
       "      <td>0.017564</td>\n",
       "      <td>0.005133</td>\n",
       "      <td>0.002044</td>\n",
       "      <td>0.004387</td>\n",
       "      <td>0.042466</td>\n",
       "      <td>0.040933</td>\n",
       "      <td>...</td>\n",
       "      <td>0.003040</td>\n",
       "      <td>0.245698</td>\n",
       "      <td>0.122011</td>\n",
       "      <td>0.006941</td>\n",
       "      <td>0.030092</td>\n",
       "      <td>0.141776</td>\n",
       "      <td>0.012963</td>\n",
       "      <td>0.050654</td>\n",
       "      <td>0.102396</td>\n",
       "      <td>0.092288</td>\n",
       "    </tr>\n",
       "    <tr>\n",
       "      <th>4</th>\n",
       "      <td>0.078261</td>\n",
       "      <td>1</td>\n",
       "      <td>1</td>\n",
       "      <td>20170116225209209</td>\n",
       "      <td>0.020991</td>\n",
       "      <td>0.007497</td>\n",
       "      <td>0.016926</td>\n",
       "      <td>0.028936</td>\n",
       "      <td>0.079318</td>\n",
       "      <td>0.018473</td>\n",
       "      <td>...</td>\n",
       "      <td>0.224800</td>\n",
       "      <td>0.014928</td>\n",
       "      <td>0.000000</td>\n",
       "      <td>0.000000</td>\n",
       "      <td>0.001942</td>\n",
       "      <td>0.026500</td>\n",
       "      <td>0.003167</td>\n",
       "      <td>0.007885</td>\n",
       "      <td>0.012504</td>\n",
       "      <td>0.031704</td>\n",
       "    </tr>\n",
       "  </tbody>\n",
       "</table>\n",
       "<p>5 rows × 2920 columns</p>\n",
       "</div>"
      ],
      "text/plain": [
       "        Age  Gender  Race          Date&Time  Feature_0  Feature_1  Feature_2  \\\n",
       "0  0.860870       1     0  20170119212053665   0.000000   0.000000   0.000000   \n",
       "1  0.078261       0     0  20170116201102149   0.021221   0.022481   0.220955   \n",
       "2  0.078261       0     0  20170120220628194   0.252932   0.105968   0.057890   \n",
       "3  0.078261       0     1  20170116225209209   0.017564   0.005133   0.002044   \n",
       "4  0.078261       1     1  20170116225209209   0.020991   0.007497   0.016926   \n",
       "\n",
       "   Feature_3  Feature_4  Feature_5  ...  Feature_2906  Feature_2907  \\\n",
       "0   0.000000   0.000000   0.000000  ...      0.105313      0.210356   \n",
       "1   0.220955   0.195880   0.090754  ...      0.051861      0.240718   \n",
       "2   0.032553   0.123328   0.006724  ...      0.010051      0.143671   \n",
       "3   0.004387   0.042466   0.040933  ...      0.003040      0.245698   \n",
       "4   0.028936   0.079318   0.018473  ...      0.224800      0.014928   \n",
       "\n",
       "   Feature_2908  Feature_2909  Feature_2910  Feature_2911  Feature_2912  \\\n",
       "0      0.063162      0.027130      0.033233      0.062907      0.007087   \n",
       "1      0.240718      0.126342      0.064562      0.045626      0.000000   \n",
       "2      0.008573      0.008531      0.000000      0.034993      0.004975   \n",
       "3      0.122011      0.006941      0.030092      0.141776      0.012963   \n",
       "4      0.000000      0.000000      0.001942      0.026500      0.003167   \n",
       "\n",
       "   Feature_2913  Feature_2914  Feature_2915  \n",
       "0      0.029493      0.014638      0.059388  \n",
       "1      0.003938      0.055610      0.079367  \n",
       "2      0.017171      0.052169      0.079247  \n",
       "3      0.050654      0.102396      0.092288  \n",
       "4      0.007885      0.012504      0.031704  \n",
       "\n",
       "[5 rows x 2920 columns]"
      ]
     },
     "execution_count": 7,
     "metadata": {},
     "output_type": "execute_result"
    }
   ],
   "source": [
    "dataset.head()"
   ]
  },
  {
   "cell_type": "code",
   "execution_count": 8,
   "id": "88ae1f6f",
   "metadata": {},
   "outputs": [],
   "source": [
    "# drop Date&Time because not important\n",
    "dataset.drop('Date&Time', axis=1, inplace=True) "
   ]
  },
  {
   "cell_type": "code",
   "execution_count": 9,
   "id": "4eb8ea81",
   "metadata": {},
   "outputs": [
    {
     "data": {
      "text/html": [
       "<div>\n",
       "<style scoped>\n",
       "    .dataframe tbody tr th:only-of-type {\n",
       "        vertical-align: middle;\n",
       "    }\n",
       "\n",
       "    .dataframe tbody tr th {\n",
       "        vertical-align: top;\n",
       "    }\n",
       "\n",
       "    .dataframe thead th {\n",
       "        text-align: right;\n",
       "    }\n",
       "</style>\n",
       "<table border=\"1\" class=\"dataframe\">\n",
       "  <thead>\n",
       "    <tr style=\"text-align: right;\">\n",
       "      <th></th>\n",
       "      <th>Age</th>\n",
       "      <th>Gender</th>\n",
       "      <th>Race</th>\n",
       "      <th>Feature_0</th>\n",
       "      <th>Feature_1</th>\n",
       "      <th>Feature_2</th>\n",
       "      <th>Feature_3</th>\n",
       "      <th>Feature_4</th>\n",
       "      <th>Feature_5</th>\n",
       "      <th>Feature_6</th>\n",
       "      <th>...</th>\n",
       "      <th>Feature_2906</th>\n",
       "      <th>Feature_2907</th>\n",
       "      <th>Feature_2908</th>\n",
       "      <th>Feature_2909</th>\n",
       "      <th>Feature_2910</th>\n",
       "      <th>Feature_2911</th>\n",
       "      <th>Feature_2912</th>\n",
       "      <th>Feature_2913</th>\n",
       "      <th>Feature_2914</th>\n",
       "      <th>Feature_2915</th>\n",
       "    </tr>\n",
       "  </thead>\n",
       "  <tbody>\n",
       "    <tr>\n",
       "      <th>0</th>\n",
       "      <td>0.860870</td>\n",
       "      <td>1</td>\n",
       "      <td>0</td>\n",
       "      <td>0.000000</td>\n",
       "      <td>0.000000</td>\n",
       "      <td>0.000000</td>\n",
       "      <td>0.000000</td>\n",
       "      <td>0.00000</td>\n",
       "      <td>0.000000</td>\n",
       "      <td>0.000000</td>\n",
       "      <td>...</td>\n",
       "      <td>0.105313</td>\n",
       "      <td>0.210356</td>\n",
       "      <td>0.063162</td>\n",
       "      <td>0.027130</td>\n",
       "      <td>0.033233</td>\n",
       "      <td>0.062907</td>\n",
       "      <td>0.007087</td>\n",
       "      <td>0.029493</td>\n",
       "      <td>0.014638</td>\n",
       "      <td>0.059388</td>\n",
       "    </tr>\n",
       "    <tr>\n",
       "      <th>1</th>\n",
       "      <td>0.078261</td>\n",
       "      <td>0</td>\n",
       "      <td>0</td>\n",
       "      <td>0.021221</td>\n",
       "      <td>0.022481</td>\n",
       "      <td>0.220955</td>\n",
       "      <td>0.220955</td>\n",
       "      <td>0.19588</td>\n",
       "      <td>0.090754</td>\n",
       "      <td>0.033301</td>\n",
       "      <td>...</td>\n",
       "      <td>0.051861</td>\n",
       "      <td>0.240718</td>\n",
       "      <td>0.240718</td>\n",
       "      <td>0.126342</td>\n",
       "      <td>0.064562</td>\n",
       "      <td>0.045626</td>\n",
       "      <td>0.000000</td>\n",
       "      <td>0.003938</td>\n",
       "      <td>0.055610</td>\n",
       "      <td>0.079367</td>\n",
       "    </tr>\n",
       "  </tbody>\n",
       "</table>\n",
       "<p>2 rows × 2919 columns</p>\n",
       "</div>"
      ],
      "text/plain": [
       "        Age  Gender  Race  Feature_0  Feature_1  Feature_2  Feature_3  \\\n",
       "0  0.860870       1     0   0.000000   0.000000   0.000000   0.000000   \n",
       "1  0.078261       0     0   0.021221   0.022481   0.220955   0.220955   \n",
       "\n",
       "   Feature_4  Feature_5  Feature_6  ...  Feature_2906  Feature_2907  \\\n",
       "0    0.00000   0.000000   0.000000  ...      0.105313      0.210356   \n",
       "1    0.19588   0.090754   0.033301  ...      0.051861      0.240718   \n",
       "\n",
       "   Feature_2908  Feature_2909  Feature_2910  Feature_2911  Feature_2912  \\\n",
       "0      0.063162      0.027130      0.033233      0.062907      0.007087   \n",
       "1      0.240718      0.126342      0.064562      0.045626      0.000000   \n",
       "\n",
       "   Feature_2913  Feature_2914  Feature_2915  \n",
       "0      0.029493      0.014638      0.059388  \n",
       "1      0.003938      0.055610      0.079367  \n",
       "\n",
       "[2 rows x 2919 columns]"
      ]
     },
     "execution_count": 9,
     "metadata": {},
     "output_type": "execute_result"
    }
   ],
   "source": [
    "dataset.head(2)"
   ]
  },
  {
   "cell_type": "code",
   "execution_count": 10,
   "id": "37cc32de",
   "metadata": {},
   "outputs": [],
   "source": [
    "#spliot into featurs and target \n",
    "data_x = dataset.drop(dataset.columns[1], axis=1)  #Featurs all expect gender \n",
    "data_y = dataset.iloc[:, 1]   #Target only gender"
   ]
  },
  {
   "cell_type": "code",
   "execution_count": 11,
   "id": "305b551b",
   "metadata": {},
   "outputs": [
    {
     "data": {
      "text/html": [
       "<div>\n",
       "<style scoped>\n",
       "    .dataframe tbody tr th:only-of-type {\n",
       "        vertical-align: middle;\n",
       "    }\n",
       "\n",
       "    .dataframe tbody tr th {\n",
       "        vertical-align: top;\n",
       "    }\n",
       "\n",
       "    .dataframe thead th {\n",
       "        text-align: right;\n",
       "    }\n",
       "</style>\n",
       "<table border=\"1\" class=\"dataframe\">\n",
       "  <thead>\n",
       "    <tr style=\"text-align: right;\">\n",
       "      <th></th>\n",
       "      <th>Age</th>\n",
       "      <th>Race</th>\n",
       "      <th>Feature_0</th>\n",
       "      <th>Feature_1</th>\n",
       "      <th>Feature_2</th>\n",
       "      <th>Feature_3</th>\n",
       "      <th>Feature_4</th>\n",
       "      <th>Feature_5</th>\n",
       "      <th>Feature_6</th>\n",
       "      <th>Feature_7</th>\n",
       "      <th>...</th>\n",
       "      <th>Feature_2906</th>\n",
       "      <th>Feature_2907</th>\n",
       "      <th>Feature_2908</th>\n",
       "      <th>Feature_2909</th>\n",
       "      <th>Feature_2910</th>\n",
       "      <th>Feature_2911</th>\n",
       "      <th>Feature_2912</th>\n",
       "      <th>Feature_2913</th>\n",
       "      <th>Feature_2914</th>\n",
       "      <th>Feature_2915</th>\n",
       "    </tr>\n",
       "  </thead>\n",
       "  <tbody>\n",
       "    <tr>\n",
       "      <th>0</th>\n",
       "      <td>0.860870</td>\n",
       "      <td>0</td>\n",
       "      <td>0.000000</td>\n",
       "      <td>0.000000</td>\n",
       "      <td>0.000000</td>\n",
       "      <td>0.000000</td>\n",
       "      <td>0.000000</td>\n",
       "      <td>0.000000</td>\n",
       "      <td>0.000000</td>\n",
       "      <td>0.000000</td>\n",
       "      <td>...</td>\n",
       "      <td>0.105313</td>\n",
       "      <td>0.210356</td>\n",
       "      <td>0.063162</td>\n",
       "      <td>0.027130</td>\n",
       "      <td>0.033233</td>\n",
       "      <td>0.062907</td>\n",
       "      <td>0.007087</td>\n",
       "      <td>0.029493</td>\n",
       "      <td>0.014638</td>\n",
       "      <td>0.059388</td>\n",
       "    </tr>\n",
       "    <tr>\n",
       "      <th>1</th>\n",
       "      <td>0.078261</td>\n",
       "      <td>0</td>\n",
       "      <td>0.021221</td>\n",
       "      <td>0.022481</td>\n",
       "      <td>0.220955</td>\n",
       "      <td>0.220955</td>\n",
       "      <td>0.195880</td>\n",
       "      <td>0.090754</td>\n",
       "      <td>0.033301</td>\n",
       "      <td>0.000000</td>\n",
       "      <td>...</td>\n",
       "      <td>0.051861</td>\n",
       "      <td>0.240718</td>\n",
       "      <td>0.240718</td>\n",
       "      <td>0.126342</td>\n",
       "      <td>0.064562</td>\n",
       "      <td>0.045626</td>\n",
       "      <td>0.000000</td>\n",
       "      <td>0.003938</td>\n",
       "      <td>0.055610</td>\n",
       "      <td>0.079367</td>\n",
       "    </tr>\n",
       "    <tr>\n",
       "      <th>2</th>\n",
       "      <td>0.078261</td>\n",
       "      <td>0</td>\n",
       "      <td>0.252932</td>\n",
       "      <td>0.105968</td>\n",
       "      <td>0.057890</td>\n",
       "      <td>0.032553</td>\n",
       "      <td>0.123328</td>\n",
       "      <td>0.006724</td>\n",
       "      <td>0.001473</td>\n",
       "      <td>0.005925</td>\n",
       "      <td>...</td>\n",
       "      <td>0.010051</td>\n",
       "      <td>0.143671</td>\n",
       "      <td>0.008573</td>\n",
       "      <td>0.008531</td>\n",
       "      <td>0.000000</td>\n",
       "      <td>0.034993</td>\n",
       "      <td>0.004975</td>\n",
       "      <td>0.017171</td>\n",
       "      <td>0.052169</td>\n",
       "      <td>0.079247</td>\n",
       "    </tr>\n",
       "  </tbody>\n",
       "</table>\n",
       "<p>3 rows × 2918 columns</p>\n",
       "</div>"
      ],
      "text/plain": [
       "        Age  Race  Feature_0  Feature_1  Feature_2  Feature_3  Feature_4  \\\n",
       "0  0.860870     0   0.000000   0.000000   0.000000   0.000000   0.000000   \n",
       "1  0.078261     0   0.021221   0.022481   0.220955   0.220955   0.195880   \n",
       "2  0.078261     0   0.252932   0.105968   0.057890   0.032553   0.123328   \n",
       "\n",
       "   Feature_5  Feature_6  Feature_7  ...  Feature_2906  Feature_2907  \\\n",
       "0   0.000000   0.000000   0.000000  ...      0.105313      0.210356   \n",
       "1   0.090754   0.033301   0.000000  ...      0.051861      0.240718   \n",
       "2   0.006724   0.001473   0.005925  ...      0.010051      0.143671   \n",
       "\n",
       "   Feature_2908  Feature_2909  Feature_2910  Feature_2911  Feature_2912  \\\n",
       "0      0.063162      0.027130      0.033233      0.062907      0.007087   \n",
       "1      0.240718      0.126342      0.064562      0.045626      0.000000   \n",
       "2      0.008573      0.008531      0.000000      0.034993      0.004975   \n",
       "\n",
       "   Feature_2913  Feature_2914  Feature_2915  \n",
       "0      0.029493      0.014638      0.059388  \n",
       "1      0.003938      0.055610      0.079367  \n",
       "2      0.017171      0.052169      0.079247  \n",
       "\n",
       "[3 rows x 2918 columns]"
      ]
     },
     "execution_count": 11,
     "metadata": {},
     "output_type": "execute_result"
    }
   ],
   "source": [
    "data_x.head(3)"
   ]
  },
  {
   "cell_type": "code",
   "execution_count": 12,
   "id": "ab06fe8b",
   "metadata": {},
   "outputs": [
    {
     "data": {
      "text/plain": [
       "0    1\n",
       "1    0\n",
       "2    0\n",
       "Name: Gender, dtype: int64"
      ]
     },
     "execution_count": 12,
     "metadata": {},
     "output_type": "execute_result"
    }
   ],
   "source": [
    "data_y.head(3)"
   ]
  },
  {
   "cell_type": "code",
   "execution_count": 13,
   "id": "eaac9384",
   "metadata": {},
   "outputs": [],
   "source": [
    "# Split the dataset into training and testing sets\n",
    "X_train, X_test, y_train, y_test = train_test_split(data_x, data_y, test_size=0.2, random_state=42)"
   ]
  },
  {
   "cell_type": "code",
   "execution_count": 14,
   "id": "bdf9309f",
   "metadata": {},
   "outputs": [
    {
     "name": "stdout",
     "output_type": "stream",
     "text": [
      "X_Treain (2601, 2918)\n",
      "X_Test (651, 2918)\n",
      "y_Treain (2601,)\n",
      "X_Test (651,)\n"
     ]
    }
   ],
   "source": [
    "print(\"X_Treain\",X_train.shape)\n",
    "print(\"X_Test\",X_test.shape)\n",
    "print(\"y_Treain\",y_train.shape)\n",
    "print(\"X_Test\",y_test.shape)"
   ]
  },
  {
   "cell_type": "code",
   "execution_count": 16,
   "id": "11f9c75f",
   "metadata": {},
   "outputs": [
    {
     "name": "stdout",
     "output_type": "stream",
     "text": [
      "X train Shape : (2601, 2918)\n",
      "X test Shape : (651, 2918)\n",
      "y train Shape : (2601,)\n",
      "y test Shape : (651,)\n"
     ]
    }
   ],
   "source": [
    "print(\"X train Shape :\",X_train.shape)\n",
    "print(\"X test Shape :\",X_test.shape)\n",
    "print(\"y train Shape :\",y_train.shape)\n",
    "print(\"y test Shape :\",y_test.shape)"
   ]
  },
  {
   "cell_type": "markdown",
   "id": "1cfc2161",
   "metadata": {},
   "source": [
    "# Logistic Regression Model"
   ]
  },
  {
   "cell_type": "code",
   "execution_count": 17,
   "id": "a1040e10",
   "metadata": {},
   "outputs": [],
   "source": [
    "# Logistic Regression\n",
    "lr = LogisticRegression(penalty='l2',solver='saga',C=1.0,random_state=11)"
   ]
  },
  {
   "cell_type": "code",
   "execution_count": 18,
   "id": "2e2098a5",
   "metadata": {},
   "outputs": [
    {
     "name": "stderr",
     "output_type": "stream",
     "text": [
      "C:\\Users\\iRepair\\anaconda3\\Lib\\site-packages\\sklearn\\linear_model\\_sag.py:350: ConvergenceWarning: The max_iter was reached which means the coef_ did not converge\n",
      "  warnings.warn(\n"
     ]
    },
    {
     "data": {
      "text/html": [
       "<style>#sk-container-id-1 {color: black;}#sk-container-id-1 pre{padding: 0;}#sk-container-id-1 div.sk-toggleable {background-color: white;}#sk-container-id-1 label.sk-toggleable__label {cursor: pointer;display: block;width: 100%;margin-bottom: 0;padding: 0.3em;box-sizing: border-box;text-align: center;}#sk-container-id-1 label.sk-toggleable__label-arrow:before {content: \"▸\";float: left;margin-right: 0.25em;color: #696969;}#sk-container-id-1 label.sk-toggleable__label-arrow:hover:before {color: black;}#sk-container-id-1 div.sk-estimator:hover label.sk-toggleable__label-arrow:before {color: black;}#sk-container-id-1 div.sk-toggleable__content {max-height: 0;max-width: 0;overflow: hidden;text-align: left;background-color: #f0f8ff;}#sk-container-id-1 div.sk-toggleable__content pre {margin: 0.2em;color: black;border-radius: 0.25em;background-color: #f0f8ff;}#sk-container-id-1 input.sk-toggleable__control:checked~div.sk-toggleable__content {max-height: 200px;max-width: 100%;overflow: auto;}#sk-container-id-1 input.sk-toggleable__control:checked~label.sk-toggleable__label-arrow:before {content: \"▾\";}#sk-container-id-1 div.sk-estimator input.sk-toggleable__control:checked~label.sk-toggleable__label {background-color: #d4ebff;}#sk-container-id-1 div.sk-label input.sk-toggleable__control:checked~label.sk-toggleable__label {background-color: #d4ebff;}#sk-container-id-1 input.sk-hidden--visually {border: 0;clip: rect(1px 1px 1px 1px);clip: rect(1px, 1px, 1px, 1px);height: 1px;margin: -1px;overflow: hidden;padding: 0;position: absolute;width: 1px;}#sk-container-id-1 div.sk-estimator {font-family: monospace;background-color: #f0f8ff;border: 1px dotted black;border-radius: 0.25em;box-sizing: border-box;margin-bottom: 0.5em;}#sk-container-id-1 div.sk-estimator:hover {background-color: #d4ebff;}#sk-container-id-1 div.sk-parallel-item::after {content: \"\";width: 100%;border-bottom: 1px solid gray;flex-grow: 1;}#sk-container-id-1 div.sk-label:hover label.sk-toggleable__label {background-color: #d4ebff;}#sk-container-id-1 div.sk-serial::before {content: \"\";position: absolute;border-left: 1px solid gray;box-sizing: border-box;top: 0;bottom: 0;left: 50%;z-index: 0;}#sk-container-id-1 div.sk-serial {display: flex;flex-direction: column;align-items: center;background-color: white;padding-right: 0.2em;padding-left: 0.2em;position: relative;}#sk-container-id-1 div.sk-item {position: relative;z-index: 1;}#sk-container-id-1 div.sk-parallel {display: flex;align-items: stretch;justify-content: center;background-color: white;position: relative;}#sk-container-id-1 div.sk-item::before, #sk-container-id-1 div.sk-parallel-item::before {content: \"\";position: absolute;border-left: 1px solid gray;box-sizing: border-box;top: 0;bottom: 0;left: 50%;z-index: -1;}#sk-container-id-1 div.sk-parallel-item {display: flex;flex-direction: column;z-index: 1;position: relative;background-color: white;}#sk-container-id-1 div.sk-parallel-item:first-child::after {align-self: flex-end;width: 50%;}#sk-container-id-1 div.sk-parallel-item:last-child::after {align-self: flex-start;width: 50%;}#sk-container-id-1 div.sk-parallel-item:only-child::after {width: 0;}#sk-container-id-1 div.sk-dashed-wrapped {border: 1px dashed gray;margin: 0 0.4em 0.5em 0.4em;box-sizing: border-box;padding-bottom: 0.4em;background-color: white;}#sk-container-id-1 div.sk-label label {font-family: monospace;font-weight: bold;display: inline-block;line-height: 1.2em;}#sk-container-id-1 div.sk-label-container {text-align: center;}#sk-container-id-1 div.sk-container {/* jupyter's `normalize.less` sets `[hidden] { display: none; }` but bootstrap.min.css set `[hidden] { display: none !important; }` so we also need the `!important` here to be able to override the default hidden behavior on the sphinx rendered scikit-learn.org. See: https://github.com/scikit-learn/scikit-learn/issues/21755 */display: inline-block !important;position: relative;}#sk-container-id-1 div.sk-text-repr-fallback {display: none;}</style><div id=\"sk-container-id-1\" class=\"sk-top-container\"><div class=\"sk-text-repr-fallback\"><pre>LogisticRegression(random_state=11, solver=&#x27;saga&#x27;)</pre><b>In a Jupyter environment, please rerun this cell to show the HTML representation or trust the notebook. <br />On GitHub, the HTML representation is unable to render, please try loading this page with nbviewer.org.</b></div><div class=\"sk-container\" hidden><div class=\"sk-item\"><div class=\"sk-estimator sk-toggleable\"><input class=\"sk-toggleable__control sk-hidden--visually\" id=\"sk-estimator-id-1\" type=\"checkbox\" checked><label for=\"sk-estimator-id-1\" class=\"sk-toggleable__label sk-toggleable__label-arrow\">LogisticRegression</label><div class=\"sk-toggleable__content\"><pre>LogisticRegression(random_state=11, solver=&#x27;saga&#x27;)</pre></div></div></div></div></div>"
      ],
      "text/plain": [
       "LogisticRegression(random_state=11, solver='saga')"
      ]
     },
     "execution_count": 18,
     "metadata": {},
     "output_type": "execute_result"
    }
   ],
   "source": [
    "lr.fit(X_train, y_train)"
   ]
  },
  {
   "cell_type": "code",
   "execution_count": 19,
   "id": "26161279",
   "metadata": {},
   "outputs": [],
   "source": [
    "# prediction\n",
    "y_pred = lr.predict(X_test)"
   ]
  },
  {
   "cell_type": "code",
   "execution_count": 20,
   "id": "3b01d26b",
   "metadata": {},
   "outputs": [
    {
     "name": "stdout",
     "output_type": "stream",
     "text": [
      "(Logistic Regression)Train Score : 0.8796616685890042\n",
      "(Logistic Regression)Teast Score : 0.7741935483870968\n"
     ]
    }
   ],
   "source": [
    "# prediction\n",
    "y_pred = lr.predict(X_test)\n",
    "# test and train score \n",
    "print(\"(Logistic Regression)Train Score :\",lr.score(X_train,y_train)) \n",
    "print(\"(Logistic Regression)Teast Score :\",lr.score(X_test,y_test))"
   ]
  },
  {
   "cell_type": "code",
   "execution_count": 21,
   "id": "cb53869a",
   "metadata": {},
   "outputs": [
    {
     "name": "stdout",
     "output_type": "stream",
     "text": [
      "Classes is :  [0 1]\n"
     ]
    }
   ],
   "source": [
    "# classes\n",
    "print(\"Classes is : \",lr.classes_)"
   ]
  },
  {
   "cell_type": "code",
   "execution_count": 22,
   "id": "979d1518",
   "metadata": {},
   "outputs": [
    {
     "name": "stdout",
     "output_type": "stream",
     "text": [
      "Itreations is :  [100]\n"
     ]
    }
   ],
   "source": [
    "# Itreations \n",
    "print(\"Itreations is : \",lr.n_iter_)"
   ]
  },
  {
   "cell_type": "code",
   "execution_count": 23,
   "id": "e8816474",
   "metadata": {},
   "outputs": [
    {
     "name": "stdout",
     "output_type": "stream",
     "text": [
      "Intercept is :  [-4.80416957]\n"
     ]
    }
   ],
   "source": [
    "#  intercept_ \n",
    "print(\"Intercept is : \",lr.intercept_)"
   ]
  },
  {
   "cell_type": "code",
   "execution_count": 24,
   "id": "43b82405",
   "metadata": {},
   "outputs": [
    {
     "name": "stdout",
     "output_type": "stream",
     "text": [
      "coef is :  [[ 0.34647411 -0.25750874 -0.22118827 ... -0.54864663  0.31745939\n",
      "   0.5321811 ]]\n"
     ]
    }
   ],
   "source": [
    "#   coef_\n",
    "print(\"coef is : \",lr.coef_)"
   ]
  },
  {
   "cell_type": "code",
   "execution_count": 25,
   "id": "e5cd41f7",
   "metadata": {},
   "outputs": [
    {
     "name": "stdout",
     "output_type": "stream",
     "text": [
      "Prediction  :  [0 1 0 0 1 0 0 0 0 0]\n"
     ]
    }
   ],
   "source": [
    "# Get parameters for this estimator.\n",
    "print(\"Prediction  : \",lr.predict(X_test)[:10])"
   ]
  },
  {
   "cell_type": "code",
   "execution_count": 26,
   "id": "042cd72a",
   "metadata": {},
   "outputs": [
    {
     "name": "stdout",
     "output_type": "stream",
     "text": [
      "Prediction Probabilities :  [[0.99488642 0.00511358]\n",
      " [0.26929526 0.73070474]]\n"
     ]
    }
   ],
   "source": [
    "#  Predict class labels for samples in X.\n",
    "print(\"Prediction Probabilities : \",lr.predict_proba(X_test)[:2])"
   ]
  },
  {
   "cell_type": "markdown",
   "id": "70bc150a",
   "metadata": {},
   "source": [
    "# Metrics"
   ]
  },
  {
   "cell_type": "code",
   "execution_count": 27,
   "id": "ddc2631f",
   "metadata": {},
   "outputs": [
    {
     "name": "stdout",
     "output_type": "stream",
     "text": [
      "Confusion Matrix :\n",
      "[[388  63]\n",
      " [ 84 116]]\n"
     ]
    }
   ],
   "source": [
    "#Calculating Confusion Matrix \n",
    "cm = confusion_matrix(y_test,y_pred)\n",
    "print(\"Confusion Matrix :\")\n",
    "print(cm)"
   ]
  },
  {
   "cell_type": "code",
   "execution_count": 28,
   "id": "1e462545",
   "metadata": {},
   "outputs": [
    {
     "data": {
      "image/png": "[encoded data removed]",
      "text/plain": [
       "<Figure size 640x480 with 2 Axes>"
      ]
     },
     "metadata": {},
     "output_type": "display_data"
    }
   ],
   "source": [
    "# plot confusion matrix \n",
    "sns.heatmap(cm, center = True) \n",
    "plt.show() "
   ]
  },
  {
   "cell_type": "code",
   "execution_count": 29,
   "id": "72bb67f0",
   "metadata": {},
   "outputs": [
    {
     "name": "stdout",
     "output_type": "stream",
     "text": [
      "Accuracy Score :  504\n"
     ]
    }
   ],
   "source": [
    "#Calculating Accuracy Score \n",
    "acScore = accuracy_score(y_test,y_pred,normalize=False)\n",
    "print(\"Accuracy Score : \",acScore)"
   ]
  },
  {
   "cell_type": "code",
   "execution_count": 30,
   "id": "8c596f5e",
   "metadata": {},
   "outputs": [
    {
     "name": "stdout",
     "output_type": "stream",
     "text": [
      "F1 Score is :  0.7741935483870968\n"
     ]
    }
   ],
   "source": [
    "#Calculating F1 Score  \n",
    "F1Score = f1_score(y_test, y_pred, average='micro') #it can be : binary,macro,weighted,samples \n",
    "print('F1 Score is : ', F1Score) "
   ]
  },
  {
   "cell_type": "code",
   "execution_count": 31,
   "id": "3c8db769",
   "metadata": {},
   "outputs": [
    {
     "name": "stdout",
     "output_type": "stream",
     "text": [
      "Recall Score is :  0.7741935483870968\n"
     ]
    }
   ],
   "source": [
    "#Calculating Recall Score  \n",
    "RecallScore = recall_score(y_test, y_pred, average='micro') \n",
    "print('Recall Score is : ', RecallScore)"
   ]
  },
  {
   "cell_type": "code",
   "execution_count": 32,
   "id": "9ff2f5e4",
   "metadata": {},
   "outputs": [
    {
     "name": "stdout",
     "output_type": "stream",
     "text": [
      "Precision Score is :  0.7741935483870968\n"
     ]
    }
   ],
   "source": [
    "#Calculating Precision Score \n",
    "PrecisionScore = precision_score(y_test, y_pred, average='micro')\n",
    "print('Precision Score is : ', PrecisionScore) "
   ]
  },
  {
   "cell_type": "code",
   "execution_count": 33,
   "id": "2ec89640",
   "metadata": {},
   "outputs": [
    {
     "name": "stdout",
     "output_type": "stream",
     "text": [
      "Precision Recall Score is :  (0.7741935483870968, 0.7741935483870968, 0.7741935483870968, None)\n"
     ]
    }
   ],
   "source": [
    "#Calculating Precision recall Score  \n",
    "PrecisionRecallScore = precision_recall_fscore_support(y_test, y_pred, average='micro') \n",
    "print('Precision Recall Score is : ', PrecisionRecallScore)"
   ]
  },
  {
   "cell_type": "code",
   "execution_count": 34,
   "id": "5f3edd18",
   "metadata": {},
   "outputs": [
    {
     "name": "stdout",
     "output_type": "stream",
     "text": [
      "Precision Value is :  [0.30721966 0.64804469 1.        ]\n",
      "Recall Value is :  [1.   0.58 0.  ]\n",
      "Thresholds Value is :  [0 1]\n"
     ]
    }
   ],
   "source": [
    "#Calculating Precision recall Curve \n",
    "PrecisionValue, RecallValue, ThresholdsValue = precision_recall_curve(y_test,y_pred) \n",
    "print('Precision Value is : ', PrecisionValue) \n",
    "print('Recall Value is : ', RecallValue) \n",
    "print('Thresholds Value is : ', ThresholdsValue) "
   ]
  },
  {
   "cell_type": "code",
   "execution_count": 35,
   "id": "0f61b2e6",
   "metadata": {},
   "outputs": [
    {
     "name": "stdout",
     "output_type": "stream",
     "text": [
      "Classification Report is :                precision    recall  f1-score   support\n",
      "\n",
      "           0       0.82      0.86      0.84       451\n",
      "           1       0.65      0.58      0.61       200\n",
      "\n",
      "    accuracy                           0.77       651\n",
      "   macro avg       0.74      0.72      0.73       651\n",
      "weighted avg       0.77      0.77      0.77       651\n",
      "\n"
     ]
    }
   ],
   "source": [
    "#Calculating classification Report \n",
    "ClassificationReport = classification_report(y_test,y_pred) \n",
    "print('Classification Report is : ', ClassificationReport ) "
   ]
  },
  {
   "cell_type": "code",
   "execution_count": 36,
   "id": "41671764",
   "metadata": {},
   "outputs": [
    {
     "name": "stdout",
     "output_type": "stream",
     "text": [
      "AUC Value  :  0.7201552106430156\n"
     ]
    }
   ],
   "source": [
    "#Calculating Area Under the Curve :   \n",
    "fprValue2, tprValue2, thresholdsValue2 = roc_curve(y_test,y_pred) \n",
    "AUCValue = auc(fprValue2, tprValue2) \n",
    "print('AUC Value  : ', AUCValue)"
   ]
  },
  {
   "cell_type": "code",
   "execution_count": 37,
   "id": "8250784a",
   "metadata": {},
   "outputs": [
    {
     "name": "stdout",
     "output_type": "stream",
     "text": [
      "fpr Value  :  [0.         0.13968958 1.        ]\n",
      "tpr Value  :  [0.   0.58 1.  ]\n",
      "thresholds Value  :  [inf  1.  0.]\n"
     ]
    }
   ],
   "source": [
    "#Calculating Receiver Operating Characteristic \n",
    "fprValue, tprValue, thresholdsValue = roc_curve(y_test,y_pred) \n",
    "print('fpr Value  : ', fprValue) \n",
    "print('tpr Value  : ', tprValue) \n",
    "print('thresholds Value  : ', thresholdsValue) "
   ]
  },
  {
   "cell_type": "code",
   "execution_count": 38,
   "id": "7c4a5301",
   "metadata": {},
   "outputs": [
    {
     "name": "stdout",
     "output_type": "stream",
     "text": [
      "ROCAUC Score :  0.7201552106430156\n"
     ]
    }
   ],
   "source": [
    "#Calculating ROC AUC Score:   \n",
    "ROCAUCScore = roc_auc_score(y_test,y_pred, average='micro') \n",
    "print('ROCAUC Score : ', ROCAUCScore) "
   ]
  },
  {
   "cell_type": "code",
   "execution_count": 39,
   "id": "aaa67f42",
   "metadata": {},
   "outputs": [
    {
     "name": "stdout",
     "output_type": "stream",
     "text": [
      "Zero One Loss Value :  147\n"
     ]
    }
   ],
   "source": [
    "#Calculating Zero One Loss: \n",
    "ZeroOneLossValue = zero_one_loss(y_test,y_pred,normalize=False)  \n",
    "print('Zero One Loss Value : ', ZeroOneLossValue )"
   ]
  },
  {
   "cell_type": "code",
   "execution_count": 40,
   "id": "6c05c045",
   "metadata": {},
   "outputs": [
    {
     "data": {
      "image/png": "[encoded data removed]",
      "text/plain": [
       "<Figure size 640x480 with 1 Axes>"
      ]
     },
     "metadata": {},
     "output_type": "display_data"
    }
   ],
   "source": [
    "# RCO curve \n",
    "# Predict probabilities on the test set\n",
    "y_probs = lr.predict_proba(X_test)[:, 1]\n",
    "\n",
    "# Calculate the ROC curve\n",
    "fpr, tpr, thresholds = roc_curve(y_test, y_probs)\n",
    "roc_auc = auc(fpr, tpr)\n",
    "\n",
    "# Plotting the ROC curve\n",
    "plt.figure()\n",
    "plt.plot(fpr, tpr, color='blue', lw=2, label='ROC curve (AUC = %0.2f)' % roc_auc)\n",
    "plt.plot([0, 1], [0, 1], color='red', linestyle='--')\n",
    "plt.xlim([0.0, 1.0])\n",
    "plt.ylim([0.0, 1.05])\n",
    "plt.xlabel('False Positive Rate')\n",
    "plt.ylabel('True Positive Rate')\n",
    "plt.title('Receiver Operating Characteristic (ROC) Curve')\n",
    "plt.legend(loc=\"lower right\")\n",
    "plt.show()"
   ]
  },
  {
   "cell_type": "code",
   "execution_count": null,
   "id": "ccb172de",
   "metadata": {},
   "outputs": [],
   "source": []
  },
  {
   "cell_type": "code",
   "execution_count": null,
   "id": "bdd710b1",
   "metadata": {},
   "outputs": [],
   "source": []
  }
 ],
 "metadata": {
  "kernelspec": {
   "display_name": "Python 3 (ipykernel)",
   "language": "python",
   "name": "python3"
  },
  "language_info": {
   "codemirror_mode": {
    "name": "ipython",
    "version": 3
   },
   "file_extension": ".py",
   "mimetype": "text/x-python",
   "name": "python",
   "nbconvert_exporter": "python",
   "pygments_lexer": "ipython3",
   "version": "3.11.5"
  }
 },
 "nbformat": 4,
 "nbformat_minor": 5
}
