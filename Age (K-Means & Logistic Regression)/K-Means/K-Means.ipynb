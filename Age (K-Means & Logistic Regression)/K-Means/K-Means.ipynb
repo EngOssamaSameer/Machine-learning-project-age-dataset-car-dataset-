{
 "cells": [
  {
   "cell_type": "markdown",
   "id": "87abe886",
   "metadata": {},
   "source": [
    "# Age Dataset"
   ]
  },
  {
   "cell_type": "code",
   "execution_count": 122,
   "id": "77653b3d",
   "metadata": {},
   "outputs": [],
   "source": [
    "#Required Library\n",
    "import numpy as np\n",
    "import pandas as pd\n",
    "import matplotlib.pyplot as plt\n",
    "from skimage.feature import hog\n",
    "from skimage import exposure\n",
    "import os\n",
    "import cv2\n",
    "import numpy as np\n",
    "from skimage import io, color, feature, exposure\n",
    "from sklearn.model_selection import train_test_split\n",
    "from sklearn.metrics import accuracy_score, classification_report\n",
    "from sklearn.preprocessing import LabelEncoder\n",
    "from sklearn.preprocessing import MinMaxScaler\n",
    "from sklearn.cluster import KMeans\n",
    "from sklearn.metrics import silhouette_score\n",
    "from sklearn.decomposition import PCA\n",
    "from sklearn.metrics import davies_bouldin_score"
   ]
  },
  {
   "cell_type": "code",
   "execution_count": 2,
   "id": "5996df21",
   "metadata": {},
   "outputs": [],
   "source": [
    "# Function to extract HOG features from an image and visualize it\n",
    "def extract_hog_features(image):\n",
    "    # Convert the image to grayscale\n",
    "    gray_image = color.rgb2gray(image)\n",
    "\n",
    "    # Calculate HOG features\n",
    "    hog_features, hog_image = feature.hog(gray_image, visualize=True)\n",
    "\n",
    "    # Enhance the contrast of the HOG image for better visualization\n",
    "    hog_image_rescaled = exposure.rescale_intensity(hog_image, in_range=(0, 10))\n",
    "\n",
    "    return hog_features, hog_image_rescaled"
   ]
  },
  {
   "cell_type": "code",
   "execution_count": null,
   "id": "2530fd83",
   "metadata": {},
   "outputs": [],
   "source": [
    "\n",
    "\n",
    "# Path to the root folder of your dataset\n",
    "class_folder = \"D:/fcai/Level 3/ML/section/age/part2\"\n",
    "\n",
    "# List all subdirectories (assuming each subdirectory corresponds to a class)\n",
    "features_list=[]\n",
    "labels_list=[]\n",
    "age = []\n",
    "gender = []\n",
    "race = []\n",
    "#date_time = []\n",
    "\n",
    "for image_filename in os.listdir(class_folder):\n",
    "    image_path = os.path.join(class_folder, image_filename)\n",
    "    \n",
    "    #append age and geder and race for each image\n",
    "    p = (image_filename.split('.')[0]).split('_')\n",
    "    age.append(p[0])\n",
    "    gender.append(p[1])\n",
    "    race.append(p[2])\n",
    "    #date_time.append(p[3])\n",
    "\n",
    "    # Load the image\n",
    "    image = io.imread(image_path)\n",
    "    #resize image into same saize 64*128\n",
    "    image = cv2.resize(image, (64,64))\n",
    "\n",
    "    # Extract HOG features and visualize\n",
    "    hog_features, hog_image = extract_hog_features(image)\n",
    "\n",
    "    # Display the original image and the HOG features\n",
    "    fig, (ax1, ax2) = plt.subplots(1, 2, figsize=(2, 2), sharex=True, sharey=True)\n",
    "\n",
    "    ax1.axis('off')\n",
    "    ax1.imshow(image, cmap=plt.cm.gray)\n",
    "\n",
    "    ax2.axis('off')\n",
    "    ax2.imshow(hog_image, cmap=plt.cm.gray)\n",
    "\n",
    "    plt.show()\n",
    "\n",
    "    # Append HOG features to the features list\n",
    "    features_list.append(hog_features)\n",
    "\n",
    "    #not important\n",
    "    # Append the label to the labels list\n",
    "    labels_list.append(class_folder)\n",
    "\n"
   ]
  },
  {
   "cell_type": "code",
   "execution_count": 14,
   "id": "ef928215",
   "metadata": {},
   "outputs": [
    {
     "name": "stdout",
     "output_type": "stream",
     "text": [
      "\n",
      "*********************\n",
      "\n",
      "10719\n"
     ]
    }
   ],
   "source": [
    "# Convert lists to NumPy arrays\n",
    "features_array = np.array(features_list)\n",
    "labels_array = np.array(labels_list)\n",
    "\n",
    "#not important\n",
    "# Use LabelEncoder to convert class names into numeric labels\n",
    "label_encoder = LabelEncoder()\n",
    "numeric_labels = label_encoder.fit_transform(labels_array)\n",
    "\n",
    "print(\"\\n*********************\\n\")\n",
    "print(len(features_array))\n"
   ]
  },
  {
   "cell_type": "code",
   "execution_count": 15,
   "id": "3424fd50",
   "metadata": {},
   "outputs": [],
   "source": [
    "# Convert 'age' list to numpy array\n",
    "age_array = np.array(age).reshape(-1, 1)  # Reshape as a column vector\n",
    "\n",
    "# Convert 'gender' list to numpy array\n",
    "gender_array = np.array(gender).reshape(-1, 1)  # Reshape as a column vector\n",
    "\n",
    "# Convert 'race' list to numpy array\n",
    "race_array = np.array(race).reshape(-1, 1)  # Reshape as a column vector\n",
    "\n",
    "# Convert 'date_time' list to numpy array\n",
    "#date_time_array = np.array(date_time).reshape(-1, 1)  # Reshape as a column vector\n",
    "\n",
    "\n",
    "# Create the dataset by horizontally stacking age_array with features_array\n",
    "dataset = np.hstack((age_array,gender_array, race_array,features_array))\n",
    "\n",
    "# Convert dataset to a pandas DataFrame\n",
    "column_names = ['Age']+['Gender'] +['Race']  + [f'Feature_{i}' for i in range(features_array.shape[1])]  # Creating column names\n",
    "df = pd.DataFrame(dataset, columns=column_names)"
   ]
  },
  {
   "cell_type": "code",
   "execution_count": 16,
   "id": "1d76850d",
   "metadata": {},
   "outputs": [],
   "source": [
    "# save dataset in my drive \n",
    "df.to_csv('age.csv', index=False)"
   ]
  },
  {
   "cell_type": "code",
   "execution_count": 128,
   "id": "03ef9a39",
   "metadata": {},
   "outputs": [
    {
     "data": {
      "text/html": [
       "<div>\n",
       "<style scoped>\n",
       "    .dataframe tbody tr th:only-of-type {\n",
       "        vertical-align: middle;\n",
       "    }\n",
       "\n",
       "    .dataframe tbody tr th {\n",
       "        vertical-align: top;\n",
       "    }\n",
       "\n",
       "    .dataframe thead th {\n",
       "        text-align: right;\n",
       "    }\n",
       "</style>\n",
       "<table border=\"1\" class=\"dataframe\">\n",
       "  <thead>\n",
       "    <tr style=\"text-align: right;\">\n",
       "      <th></th>\n",
       "      <th>Age</th>\n",
       "      <th>Gender</th>\n",
       "      <th>Race</th>\n",
       "      <th>Feature_0</th>\n",
       "      <th>Feature_1</th>\n",
       "      <th>Feature_2</th>\n",
       "      <th>Feature_3</th>\n",
       "      <th>Feature_4</th>\n",
       "      <th>Feature_5</th>\n",
       "      <th>Feature_6</th>\n",
       "      <th>...</th>\n",
       "      <th>Feature_2906</th>\n",
       "      <th>Feature_2907</th>\n",
       "      <th>Feature_2908</th>\n",
       "      <th>Feature_2909</th>\n",
       "      <th>Feature_2910</th>\n",
       "      <th>Feature_2911</th>\n",
       "      <th>Feature_2912</th>\n",
       "      <th>Feature_2913</th>\n",
       "      <th>Feature_2914</th>\n",
       "      <th>Feature_2915</th>\n",
       "    </tr>\n",
       "  </thead>\n",
       "  <tbody>\n",
       "    <tr>\n",
       "      <th>0</th>\n",
       "      <td>100</td>\n",
       "      <td>0.0</td>\n",
       "      <td>0</td>\n",
       "      <td>0.056609</td>\n",
       "      <td>0.000000</td>\n",
       "      <td>0.001515</td>\n",
       "      <td>0.000000</td>\n",
       "      <td>0.019136</td>\n",
       "      <td>0.000000</td>\n",
       "      <td>0.016670</td>\n",
       "      <td>...</td>\n",
       "      <td>0.069617</td>\n",
       "      <td>0.080303</td>\n",
       "      <td>0.004545</td>\n",
       "      <td>0.005618</td>\n",
       "      <td>0.000000</td>\n",
       "      <td>0.042494</td>\n",
       "      <td>0.016757</td>\n",
       "      <td>0.228633</td>\n",
       "      <td>0.196855</td>\n",
       "      <td>0.031999</td>\n",
       "    </tr>\n",
       "    <tr>\n",
       "      <th>1</th>\n",
       "      <td>100</td>\n",
       "      <td>0.0</td>\n",
       "      <td>0</td>\n",
       "      <td>0.042901</td>\n",
       "      <td>0.002273</td>\n",
       "      <td>0.011000</td>\n",
       "      <td>0.000000</td>\n",
       "      <td>0.025722</td>\n",
       "      <td>0.004096</td>\n",
       "      <td>0.012266</td>\n",
       "      <td>...</td>\n",
       "      <td>0.115580</td>\n",
       "      <td>0.023702</td>\n",
       "      <td>0.014231</td>\n",
       "      <td>0.029475</td>\n",
       "      <td>0.006221</td>\n",
       "      <td>0.023509</td>\n",
       "      <td>0.009745</td>\n",
       "      <td>0.005613</td>\n",
       "      <td>0.016045</td>\n",
       "      <td>0.010350</td>\n",
       "    </tr>\n",
       "    <tr>\n",
       "      <th>2</th>\n",
       "      <td>100</td>\n",
       "      <td>1.0</td>\n",
       "      <td>0</td>\n",
       "      <td>0.022902</td>\n",
       "      <td>0.011217</td>\n",
       "      <td>0.026766</td>\n",
       "      <td>0.015443</td>\n",
       "      <td>0.013108</td>\n",
       "      <td>0.000000</td>\n",
       "      <td>0.002320</td>\n",
       "      <td>...</td>\n",
       "      <td>0.033012</td>\n",
       "      <td>0.114906</td>\n",
       "      <td>0.029399</td>\n",
       "      <td>0.033613</td>\n",
       "      <td>0.037842</td>\n",
       "      <td>0.092043</td>\n",
       "      <td>0.098900</td>\n",
       "      <td>0.089084</td>\n",
       "      <td>0.034604</td>\n",
       "      <td>0.106260</td>\n",
       "    </tr>\n",
       "    <tr>\n",
       "      <th>3</th>\n",
       "      <td>100</td>\n",
       "      <td>1.0</td>\n",
       "      <td>0</td>\n",
       "      <td>0.014351</td>\n",
       "      <td>0.019590</td>\n",
       "      <td>0.040954</td>\n",
       "      <td>0.035465</td>\n",
       "      <td>0.018366</td>\n",
       "      <td>0.000000</td>\n",
       "      <td>0.000000</td>\n",
       "      <td>...</td>\n",
       "      <td>0.070161</td>\n",
       "      <td>0.064481</td>\n",
       "      <td>0.232191</td>\n",
       "      <td>0.087832</td>\n",
       "      <td>0.065605</td>\n",
       "      <td>0.046017</td>\n",
       "      <td>0.017663</td>\n",
       "      <td>0.008911</td>\n",
       "      <td>0.000893</td>\n",
       "      <td>0.034668</td>\n",
       "    </tr>\n",
       "    <tr>\n",
       "      <th>4</th>\n",
       "      <td>100</td>\n",
       "      <td>1.0</td>\n",
       "      <td>0</td>\n",
       "      <td>0.000000</td>\n",
       "      <td>0.000000</td>\n",
       "      <td>0.000000</td>\n",
       "      <td>0.000000</td>\n",
       "      <td>0.000000</td>\n",
       "      <td>0.000000</td>\n",
       "      <td>0.000000</td>\n",
       "      <td>...</td>\n",
       "      <td>0.000000</td>\n",
       "      <td>0.000000</td>\n",
       "      <td>0.000000</td>\n",
       "      <td>0.000000</td>\n",
       "      <td>0.000000</td>\n",
       "      <td>0.000000</td>\n",
       "      <td>0.000000</td>\n",
       "      <td>0.000000</td>\n",
       "      <td>0.000000</td>\n",
       "      <td>0.000000</td>\n",
       "    </tr>\n",
       "  </tbody>\n",
       "</table>\n",
       "<p>5 rows × 2919 columns</p>\n",
       "</div>"
      ],
      "text/plain": [
       "   Age  Gender  Race  Feature_0  Feature_1  Feature_2  Feature_3  Feature_4  \\\n",
       "0  100     0.0     0   0.056609   0.000000   0.001515   0.000000   0.019136   \n",
       "1  100     0.0     0   0.042901   0.002273   0.011000   0.000000   0.025722   \n",
       "2  100     1.0     0   0.022902   0.011217   0.026766   0.015443   0.013108   \n",
       "3  100     1.0     0   0.014351   0.019590   0.040954   0.035465   0.018366   \n",
       "4  100     1.0     0   0.000000   0.000000   0.000000   0.000000   0.000000   \n",
       "\n",
       "   Feature_5  Feature_6  ...  Feature_2906  Feature_2907  Feature_2908  \\\n",
       "0   0.000000   0.016670  ...      0.069617      0.080303      0.004545   \n",
       "1   0.004096   0.012266  ...      0.115580      0.023702      0.014231   \n",
       "2   0.000000   0.002320  ...      0.033012      0.114906      0.029399   \n",
       "3   0.000000   0.000000  ...      0.070161      0.064481      0.232191   \n",
       "4   0.000000   0.000000  ...      0.000000      0.000000      0.000000   \n",
       "\n",
       "   Feature_2909  Feature_2910  Feature_2911  Feature_2912  Feature_2913  \\\n",
       "0      0.005618      0.000000      0.042494      0.016757      0.228633   \n",
       "1      0.029475      0.006221      0.023509      0.009745      0.005613   \n",
       "2      0.033613      0.037842      0.092043      0.098900      0.089084   \n",
       "3      0.087832      0.065605      0.046017      0.017663      0.008911   \n",
       "4      0.000000      0.000000      0.000000      0.000000      0.000000   \n",
       "\n",
       "   Feature_2914  Feature_2915  \n",
       "0      0.196855      0.031999  \n",
       "1      0.016045      0.010350  \n",
       "2      0.034604      0.106260  \n",
       "3      0.000893      0.034668  \n",
       "4      0.000000      0.000000  \n",
       "\n",
       "[5 rows x 2919 columns]"
      ]
     },
     "execution_count": 128,
     "metadata": {},
     "output_type": "execute_result"
    }
   ],
   "source": [
    "#load data from my devise \n",
    "dataset = pd.read_csv('age.csv')\n",
    "dataset.head()"
   ]
  },
  {
   "cell_type": "markdown",
   "id": "8cac4628",
   "metadata": {},
   "source": [
    "# Sum all image features"
   ]
  },
  {
   "cell_type": "code",
   "execution_count": 105,
   "id": "25506da1",
   "metadata": {},
   "outputs": [
    {
     "name": "stdout",
     "output_type": "stream",
     "text": [
      "10719\n",
      "[250.79485101882142, 254.46574678248038, 260.53211465762104, 261.63805712719375, 196.37063070704153, 250.77893367252932, 261.26915470018196, 237.1213169368985, 258.4332050072354, 256.56600983250274, 265.27199912839717, 251.14244001003237, 261.0481638683299, 257.0395927919621, 236.24207366094674, 229.423091462944, 222.30717560379014, 243.51685342180912, 237.80667640827932, 227.93872451760467]\n",
      "\n",
      "-------------------\n",
      "\n",
      "['100', '100', '100', '100', '100', '100', '100', '100', '101', '103', '105', '105', '105', '105', '105', '10', '10', '10', '10', '10']\n"
     ]
    }
   ],
   "source": [
    "#sum all image features\n",
    "features_sum = np.sum(features_array, axis=1).tolist()\n",
    "print(len(features_sum))\n",
    "print(features_sum[:20])\n",
    "print(\"\\n-------------------\\n\")\n",
    "print(age[:20])"
   ]
  },
  {
   "cell_type": "code",
   "execution_count": 106,
   "id": "a025c567",
   "metadata": {},
   "outputs": [
    {
     "data": {
      "text/html": [
       "<div>\n",
       "<style scoped>\n",
       "    .dataframe tbody tr th:only-of-type {\n",
       "        vertical-align: middle;\n",
       "    }\n",
       "\n",
       "    .dataframe tbody tr th {\n",
       "        vertical-align: top;\n",
       "    }\n",
       "\n",
       "    .dataframe thead th {\n",
       "        text-align: right;\n",
       "    }\n",
       "</style>\n",
       "<table border=\"1\" class=\"dataframe\">\n",
       "  <thead>\n",
       "    <tr style=\"text-align: right;\">\n",
       "      <th></th>\n",
       "      <th>Age</th>\n",
       "      <th>Gender</th>\n",
       "      <th>Race</th>\n",
       "      <th>Featurs</th>\n",
       "    </tr>\n",
       "  </thead>\n",
       "  <tbody>\n",
       "    <tr>\n",
       "      <th>0</th>\n",
       "      <td>100</td>\n",
       "      <td>0</td>\n",
       "      <td>0</td>\n",
       "      <td>250.794851</td>\n",
       "    </tr>\n",
       "    <tr>\n",
       "      <th>1</th>\n",
       "      <td>100</td>\n",
       "      <td>0</td>\n",
       "      <td>0</td>\n",
       "      <td>254.465747</td>\n",
       "    </tr>\n",
       "  </tbody>\n",
       "</table>\n",
       "</div>"
      ],
      "text/plain": [
       "   Age Gender Race     Featurs\n",
       "0  100      0    0  250.794851\n",
       "1  100      0    0  254.465747"
      ]
     },
     "execution_count": 106,
     "metadata": {},
     "output_type": "execute_result"
    }
   ],
   "source": [
    "# new dataset after sum image features\n",
    "data = {'Age':age ,'Gender':gender ,'Race':race , 'Featurs': features_sum}\n",
    "df = pd.DataFrame(data)\n",
    "\n",
    "df.head(2)"
   ]
  },
  {
   "cell_type": "code",
   "execution_count": 107,
   "id": "9cb375d1",
   "metadata": {},
   "outputs": [],
   "source": [
    "# save dataset after sum all imge features in my drive \n",
    "df.to_csv('age_fter_sum.csv', index=False)"
   ]
  },
  {
   "cell_type": "code",
   "execution_count": 108,
   "id": "cee4b5cf",
   "metadata": {},
   "outputs": [
    {
     "data": {
      "text/html": [
       "<div>\n",
       "<style scoped>\n",
       "    .dataframe tbody tr th:only-of-type {\n",
       "        vertical-align: middle;\n",
       "    }\n",
       "\n",
       "    .dataframe tbody tr th {\n",
       "        vertical-align: top;\n",
       "    }\n",
       "\n",
       "    .dataframe thead th {\n",
       "        text-align: right;\n",
       "    }\n",
       "</style>\n",
       "<table border=\"1\" class=\"dataframe\">\n",
       "  <thead>\n",
       "    <tr style=\"text-align: right;\">\n",
       "      <th></th>\n",
       "      <th>Age</th>\n",
       "      <th>Gender</th>\n",
       "      <th>Race</th>\n",
       "      <th>Featurs</th>\n",
       "    </tr>\n",
       "  </thead>\n",
       "  <tbody>\n",
       "    <tr>\n",
       "      <th>0</th>\n",
       "      <td>100</td>\n",
       "      <td>0.0</td>\n",
       "      <td>0</td>\n",
       "      <td>250.794851</td>\n",
       "    </tr>\n",
       "    <tr>\n",
       "      <th>1</th>\n",
       "      <td>100</td>\n",
       "      <td>0.0</td>\n",
       "      <td>0</td>\n",
       "      <td>254.465747</td>\n",
       "    </tr>\n",
       "    <tr>\n",
       "      <th>2</th>\n",
       "      <td>100</td>\n",
       "      <td>1.0</td>\n",
       "      <td>0</td>\n",
       "      <td>260.532115</td>\n",
       "    </tr>\n",
       "    <tr>\n",
       "      <th>3</th>\n",
       "      <td>100</td>\n",
       "      <td>1.0</td>\n",
       "      <td>0</td>\n",
       "      <td>261.638057</td>\n",
       "    </tr>\n",
       "    <tr>\n",
       "      <th>4</th>\n",
       "      <td>100</td>\n",
       "      <td>1.0</td>\n",
       "      <td>0</td>\n",
       "      <td>196.370631</td>\n",
       "    </tr>\n",
       "  </tbody>\n",
       "</table>\n",
       "</div>"
      ],
      "text/plain": [
       "   Age  Gender  Race     Featurs\n",
       "0  100     0.0     0  250.794851\n",
       "1  100     0.0     0  254.465747\n",
       "2  100     1.0     0  260.532115\n",
       "3  100     1.0     0  261.638057\n",
       "4  100     1.0     0  196.370631"
      ]
     },
     "execution_count": 108,
     "metadata": {},
     "output_type": "execute_result"
    }
   ],
   "source": [
    "#load data from my devise \n",
    "df = pd.read_csv('age_fter_sum.csv')\n",
    "df.head()"
   ]
  },
  {
   "cell_type": "code",
   "execution_count": 109,
   "id": "0549b93d",
   "metadata": {},
   "outputs": [
    {
     "data": {
      "text/plain": [
       "(10719, 4)"
      ]
     },
     "execution_count": 109,
     "metadata": {},
     "output_type": "execute_result"
    }
   ],
   "source": [
    "df.shape"
   ]
  },
  {
   "cell_type": "code",
   "execution_count": 110,
   "id": "0de4ccbc",
   "metadata": {},
   "outputs": [
    {
     "name": "stdout",
     "output_type": "stream",
     "text": [
      "<class 'pandas.core.frame.DataFrame'>\n",
      "RangeIndex: 10719 entries, 0 to 10718\n",
      "Data columns (total 4 columns):\n",
      " #   Column   Non-Null Count  Dtype  \n",
      "---  ------   --------------  -----  \n",
      " 0   Age      10719 non-null  int64  \n",
      " 1   Gender   10718 non-null  float64\n",
      " 2   Race     10719 non-null  int64  \n",
      " 3   Featurs  10719 non-null  float64\n",
      "dtypes: float64(2), int64(2)\n",
      "memory usage: 335.1 KB\n"
     ]
    }
   ],
   "source": [
    "df.info()"
   ]
  },
  {
   "cell_type": "code",
   "execution_count": 111,
   "id": "46714231",
   "metadata": {},
   "outputs": [],
   "source": [
    "#fill NaN value by Medain\n",
    "df = df.fillna(df.median())"
   ]
  },
  {
   "cell_type": "code",
   "execution_count": 112,
   "id": "6f6a9c97",
   "metadata": {},
   "outputs": [
    {
     "name": "stdout",
     "output_type": "stream",
     "text": [
      "<class 'pandas.core.frame.DataFrame'>\n",
      "RangeIndex: 10719 entries, 0 to 10718\n",
      "Data columns (total 4 columns):\n",
      " #   Column   Non-Null Count  Dtype  \n",
      "---  ------   --------------  -----  \n",
      " 0   Age      10719 non-null  int64  \n",
      " 1   Gender   10719 non-null  float64\n",
      " 2   Race     10719 non-null  int64  \n",
      " 3   Featurs  10719 non-null  float64\n",
      "dtypes: float64(2), int64(2)\n",
      "memory usage: 335.1 KB\n"
     ]
    }
   ],
   "source": [
    "df.info()"
   ]
  },
  {
   "cell_type": "code",
   "execution_count": 113,
   "id": "0fdcc00d",
   "metadata": {},
   "outputs": [],
   "source": [
    "# normaliz Age and Features and Gender and race\n",
    "df['Age'] = MinMaxScaler(feature_range=(0,1)).fit_transform(df[['Age']])\n",
    "df['Featurs'] = MinMaxScaler(feature_range=(0,1)).fit_transform(df[['Featurs']])\n",
    "# df['Gender'] = MinMaxScaler(feature_range=(0,1)).fit_transform(df[['Featurs']])\n",
    "# df['Race'] = MinMaxScaler(feature_range=(0,1)).fit_transform(df[['Featurs']])"
   ]
  },
  {
   "cell_type": "code",
   "execution_count": null,
   "id": "bee0362a",
   "metadata": {},
   "outputs": [],
   "source": []
  },
  {
   "cell_type": "code",
   "execution_count": 114,
   "id": "fcf0c2e1",
   "metadata": {},
   "outputs": [
    {
     "data": {
      "text/html": [
       "<div>\n",
       "<style scoped>\n",
       "    .dataframe tbody tr th:only-of-type {\n",
       "        vertical-align: middle;\n",
       "    }\n",
       "\n",
       "    .dataframe tbody tr th {\n",
       "        vertical-align: top;\n",
       "    }\n",
       "\n",
       "    .dataframe thead th {\n",
       "        text-align: right;\n",
       "    }\n",
       "</style>\n",
       "<table border=\"1\" class=\"dataframe\">\n",
       "  <thead>\n",
       "    <tr style=\"text-align: right;\">\n",
       "      <th></th>\n",
       "      <th>Age</th>\n",
       "      <th>Gender</th>\n",
       "      <th>Race</th>\n",
       "      <th>Featurs</th>\n",
       "    </tr>\n",
       "  </thead>\n",
       "  <tbody>\n",
       "    <tr>\n",
       "      <th>0</th>\n",
       "      <td>0.86087</td>\n",
       "      <td>0.0</td>\n",
       "      <td>0</td>\n",
       "      <td>0.739817</td>\n",
       "    </tr>\n",
       "    <tr>\n",
       "      <th>1</th>\n",
       "      <td>0.86087</td>\n",
       "      <td>0.0</td>\n",
       "      <td>0</td>\n",
       "      <td>0.763805</td>\n",
       "    </tr>\n",
       "    <tr>\n",
       "      <th>2</th>\n",
       "      <td>0.86087</td>\n",
       "      <td>1.0</td>\n",
       "      <td>0</td>\n",
       "      <td>0.803445</td>\n",
       "    </tr>\n",
       "    <tr>\n",
       "      <th>3</th>\n",
       "      <td>0.86087</td>\n",
       "      <td>1.0</td>\n",
       "      <td>0</td>\n",
       "      <td>0.810672</td>\n",
       "    </tr>\n",
       "    <tr>\n",
       "      <th>4</th>\n",
       "      <td>0.86087</td>\n",
       "      <td>1.0</td>\n",
       "      <td>0</td>\n",
       "      <td>0.384186</td>\n",
       "    </tr>\n",
       "  </tbody>\n",
       "</table>\n",
       "</div>"
      ],
      "text/plain": [
       "       Age  Gender  Race   Featurs\n",
       "0  0.86087     0.0     0  0.739817\n",
       "1  0.86087     0.0     0  0.763805\n",
       "2  0.86087     1.0     0  0.803445\n",
       "3  0.86087     1.0     0  0.810672\n",
       "4  0.86087     1.0     0  0.384186"
      ]
     },
     "execution_count": 114,
     "metadata": {},
     "output_type": "execute_result"
    }
   ],
   "source": [
    "df.head()"
   ]
  },
  {
   "cell_type": "code",
   "execution_count": 115,
   "id": "bcfda47b",
   "metadata": {},
   "outputs": [],
   "source": [
    "#spliot into featurs and target \n",
    "data_x = df.drop(dataset.columns[1], axis=1)  #Featurs all expect gender \n",
    "data_y = df.iloc[:, 1]   #Target only gender"
   ]
  },
  {
   "cell_type": "code",
   "execution_count": 116,
   "id": "79e32838",
   "metadata": {},
   "outputs": [],
   "source": [
    "# split into Train and Test\n",
    "x_train, x_test, y_train, y_test = train_test_split(data_x,data_y,test_size=0.20,random_state=44)"
   ]
  },
  {
   "cell_type": "markdown",
   "id": "e7be8aa2",
   "metadata": {},
   "source": [
    "# [1]K-Means "
   ]
  },
  {
   "cell_type": "code",
   "execution_count": 117,
   "id": "75a40c99",
   "metadata": {},
   "outputs": [
    {
     "name": "stderr",
     "output_type": "stream",
     "text": [
      "C:\\Users\\iRepair\\anaconda3\\Lib\\site-packages\\sklearn\\cluster\\_kmeans.py:1412: FutureWarning: The default value of `n_init` will change from 10 to 'auto' in 1.4. Set the value of `n_init` explicitly to suppress the warning\n",
      "  super()._check_params_vs_input(X, default_n_init=10)\n"
     ]
    }
   ],
   "source": [
    "# K-Means \n",
    "#useed orginal dataset not need to split dataset\n",
    "km = KMeans(n_clusters=2, random_state=44)\n",
    "y_pred = km.fit_predict(df)"
   ]
  },
  {
   "cell_type": "code",
   "execution_count": 118,
   "id": "0b87176a",
   "metadata": {},
   "outputs": [
    {
     "name": "stdout",
     "output_type": "stream",
     "text": [
      "The Inertia: 15865.340311550997\n",
      "The silhouette score is: 0.9999067077152719\n"
     ]
    }
   ],
   "source": [
    "# Calculating the silhouette score\n",
    "silhouette_avg = silhouette_score(df, km.labels_)\n",
    "print(f\"The Inertia: {km.inertia_}\")\n",
    "print(f\"The silhouette score is: {silhouette_avg}\")"
   ]
  },
  {
   "cell_type": "code",
   "execution_count": 119,
   "id": "8ced9b0c",
   "metadata": {},
   "outputs": [
    {
     "name": "stderr",
     "output_type": "stream",
     "text": [
      "C:\\Users\\iRepair\\anaconda3\\Lib\\site-packages\\sklearn\\cluster\\_kmeans.py:1412: FutureWarning: The default value of `n_init` will change from 10 to 'auto' in 1.4. Set the value of `n_init` explicitly to suppress the warning\n",
      "  super()._check_params_vs_input(X, default_n_init=10)\n",
      "C:\\Users\\iRepair\\anaconda3\\Lib\\site-packages\\sklearn\\cluster\\_kmeans.py:1412: FutureWarning: The default value of `n_init` will change from 10 to 'auto' in 1.4. Set the value of `n_init` explicitly to suppress the warning\n",
      "  super()._check_params_vs_input(X, default_n_init=10)\n",
      "C:\\Users\\iRepair\\anaconda3\\Lib\\site-packages\\sklearn\\cluster\\_kmeans.py:1412: FutureWarning: The default value of `n_init` will change from 10 to 'auto' in 1.4. Set the value of `n_init` explicitly to suppress the warning\n",
      "  super()._check_params_vs_input(X, default_n_init=10)\n",
      "C:\\Users\\iRepair\\anaconda3\\Lib\\site-packages\\sklearn\\base.py:1151: ConvergenceWarning: Number of distinct clusters (2) found smaller than n_clusters (3). Possibly due to duplicate points in X.\n",
      "  return fit_method(estimator, *args, **kwargs)\n",
      "C:\\Users\\iRepair\\anaconda3\\Lib\\site-packages\\sklearn\\cluster\\_kmeans.py:1412: FutureWarning: The default value of `n_init` will change from 10 to 'auto' in 1.4. Set the value of `n_init` explicitly to suppress the warning\n",
      "  super()._check_params_vs_input(X, default_n_init=10)\n",
      "C:\\Users\\iRepair\\anaconda3\\Lib\\site-packages\\sklearn\\base.py:1151: ConvergenceWarning: Number of distinct clusters (2) found smaller than n_clusters (4). Possibly due to duplicate points in X.\n",
      "  return fit_method(estimator, *args, **kwargs)\n",
      "C:\\Users\\iRepair\\anaconda3\\Lib\\site-packages\\sklearn\\cluster\\_kmeans.py:1412: FutureWarning: The default value of `n_init` will change from 10 to 'auto' in 1.4. Set the value of `n_init` explicitly to suppress the warning\n",
      "  super()._check_params_vs_input(X, default_n_init=10)\n",
      "C:\\Users\\iRepair\\anaconda3\\Lib\\site-packages\\sklearn\\base.py:1151: ConvergenceWarning: Number of distinct clusters (2) found smaller than n_clusters (5). Possibly due to duplicate points in X.\n",
      "  return fit_method(estimator, *args, **kwargs)\n",
      "C:\\Users\\iRepair\\anaconda3\\Lib\\site-packages\\sklearn\\cluster\\_kmeans.py:1412: FutureWarning: The default value of `n_init` will change from 10 to 'auto' in 1.4. Set the value of `n_init` explicitly to suppress the warning\n",
      "  super()._check_params_vs_input(X, default_n_init=10)\n",
      "C:\\Users\\iRepair\\anaconda3\\Lib\\site-packages\\sklearn\\base.py:1151: ConvergenceWarning: Number of distinct clusters (2) found smaller than n_clusters (6). Possibly due to duplicate points in X.\n",
      "  return fit_method(estimator, *args, **kwargs)\n",
      "C:\\Users\\iRepair\\anaconda3\\Lib\\site-packages\\sklearn\\cluster\\_kmeans.py:1412: FutureWarning: The default value of `n_init` will change from 10 to 'auto' in 1.4. Set the value of `n_init` explicitly to suppress the warning\n",
      "  super()._check_params_vs_input(X, default_n_init=10)\n",
      "C:\\Users\\iRepair\\anaconda3\\Lib\\site-packages\\sklearn\\base.py:1151: ConvergenceWarning: Number of distinct clusters (2) found smaller than n_clusters (7). Possibly due to duplicate points in X.\n",
      "  return fit_method(estimator, *args, **kwargs)\n",
      "C:\\Users\\iRepair\\anaconda3\\Lib\\site-packages\\sklearn\\cluster\\_kmeans.py:1412: FutureWarning: The default value of `n_init` will change from 10 to 'auto' in 1.4. Set the value of `n_init` explicitly to suppress the warning\n",
      "  super()._check_params_vs_input(X, default_n_init=10)\n",
      "C:\\Users\\iRepair\\anaconda3\\Lib\\site-packages\\sklearn\\base.py:1151: ConvergenceWarning: Number of distinct clusters (2) found smaller than n_clusters (8). Possibly due to duplicate points in X.\n",
      "  return fit_method(estimator, *args, **kwargs)\n",
      "C:\\Users\\iRepair\\anaconda3\\Lib\\site-packages\\sklearn\\cluster\\_kmeans.py:1412: FutureWarning: The default value of `n_init` will change from 10 to 'auto' in 1.4. Set the value of `n_init` explicitly to suppress the warning\n",
      "  super()._check_params_vs_input(X, default_n_init=10)\n",
      "C:\\Users\\iRepair\\anaconda3\\Lib\\site-packages\\sklearn\\base.py:1151: ConvergenceWarning: Number of distinct clusters (2) found smaller than n_clusters (9). Possibly due to duplicate points in X.\n",
      "  return fit_method(estimator, *args, **kwargs)\n",
      "C:\\Users\\iRepair\\anaconda3\\Lib\\site-packages\\sklearn\\cluster\\_kmeans.py:1412: FutureWarning: The default value of `n_init` will change from 10 to 'auto' in 1.4. Set the value of `n_init` explicitly to suppress the warning\n",
      "  super()._check_params_vs_input(X, default_n_init=10)\n",
      "C:\\Users\\iRepair\\anaconda3\\Lib\\site-packages\\sklearn\\base.py:1151: ConvergenceWarning: Number of distinct clusters (2) found smaller than n_clusters (10). Possibly due to duplicate points in X.\n",
      "  return fit_method(estimator, *args, **kwargs)\n"
     ]
    },
    {
     "data": {
      "image/png": "[encoded data removed]",
      "text/plain": [
       "<Figure size 800x600 with 1 Axes>"
      ]
     },
     "metadata": {},
     "output_type": "display_data"
    }
   ],
   "source": [
    "#Elbow Method\n",
    "k=2\n",
    "inertia = []\n",
    "for k in range(1, 11):\n",
    "    kmean = KMeans(n_clusters=k, random_state=42)\n",
    "    kmean.fit(df)\n",
    "    inertia.append(kmean.inertia_)\n",
    "\n",
    "# Plotting the Elbow Method curve\n",
    "plt.figure(figsize=(8, 6))\n",
    "plt.plot(range(1, 11), inertia, marker='o')\n",
    "plt.title('Elbow Method for Optimal k')\n",
    "plt.xlabel('Number of Clusters (k)')\n",
    "plt.ylabel('Inertia')\n",
    "plt.xticks(range(1, 11))\n",
    "plt.show()"
   ]
  },
  {
   "cell_type": "code",
   "execution_count": 120,
   "id": "76cff6f2",
   "metadata": {},
   "outputs": [
    {
     "data": {
      "image/png": "[encoded data removed]",
      "text/plain": [
       "<Figure size 1500x300 with 2 Axes>"
      ]
     },
     "metadata": {},
     "output_type": "display_data"
    }
   ],
   "source": [
    "# Visualize the cluster centers (representative images)\n",
    "k=2\n",
    "fig, ax = plt.subplots(1, k, figsize=(15, 3))\n",
    "for i in range(k):\n",
    "    center_image = kmeans.cluster_centers_[i].reshape(2,2)  # Reshape to original dimensions\n",
    "    ax[i].imshow(center_image, cmap='gray')\n",
    "    ax[i].axis('off')\n",
    "    ax[i].set_title(f'Cluster {i}')\n",
    "\n",
    "plt.show()"
   ]
  }
 ],
 "metadata": {
  "kernelspec": {
   "display_name": "Python 3 (ipykernel)",
   "language": "python",
   "name": "python3"
  },
  "language_info": {
   "codemirror_mode": {
    "name": "ipython",
    "version": 3
   },
   "file_extension": ".py",
   "mimetype": "text/x-python",
   "name": "python",
   "nbconvert_exporter": "python",
   "pygments_lexer": "ipython3",
   "version": "3.11.5"
  }
 },
 "nbformat": 4,
 "nbformat_minor": 5
}
